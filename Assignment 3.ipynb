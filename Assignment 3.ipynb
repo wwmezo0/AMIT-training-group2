{
 "cells": [
  {
   "cell_type": "markdown",
   "metadata": {},
   "source": [
    "# Assignment 3"
   ]
  },
  {
   "cell_type": "markdown",
   "metadata": {},
   "source": [
    "### Write a function to count the number 4 in a given list."
   ]
  },
  {
   "cell_type": "code",
   "execution_count": 41,
   "metadata": {},
   "outputs": [
    {
     "name": "stdout",
     "output_type": "stream",
     "text": [
      "enter the number: 8\n",
      "enter the list seperated by spaces: 5 4 7 8 8 8  9 3\n",
      "3\n"
     ]
    }
   ],
   "source": [
    "def count(num,list1):\n",
    "\n",
    "    numb=0\n",
    "    \n",
    "    for i in list1:\n",
    "        \n",
    "        if int(i)==num:\n",
    "            \n",
    "            numb+=1\n",
    "            \n",
    "    print(numb)\n",
    "\n",
    "num=int(input(\"enter the number: \"))\n",
    "\n",
    "list1=input(\"enter the list seperated by spaces: \").split()\n",
    "\n",
    "count(num,list1)"
   ]
  },
  {
   "cell_type": "markdown",
   "metadata": {},
   "source": [
    "### write a  function to check whether a number is divisible by another number."
   ]
  },
  {
   "cell_type": "code",
   "execution_count": 43,
   "metadata": {},
   "outputs": [
    {
     "name": "stdout",
     "output_type": "stream",
     "text": [
      "enter the first number: 5\n",
      "enter the second number: 1\n",
      "True\n"
     ]
    }
   ],
   "source": [
    "def divisible(num1,num2):\n",
    "            \n",
    "    print(num1%num2==0)\n",
    "\n",
    "num1=int(input(\"enter the first number: \"))\n",
    "\n",
    "num2=int(input(\"enter the second number: \"))\n",
    "\n",
    "divisible(num1,num2)"
   ]
  },
  {
   "cell_type": "markdown",
   "metadata": {},
   "source": [
    "### write a function to find the maximum and minimum numbers from a sequence of numbers."
   ]
  },
  {
   "cell_type": "code",
   "execution_count": 46,
   "metadata": {},
   "outputs": [
    {
     "name": "stdout",
     "output_type": "stream",
     "text": [
      "enter the list seperated by spaces: 888 444 5 2 9999\n"
     ]
    },
    {
     "data": {
      "text/plain": [
       "[2, 9999]"
      ]
     },
     "execution_count": 46,
     "metadata": {},
     "output_type": "execute_result"
    }
   ],
   "source": [
    "def maxmin(seq):#we initilaize maximum and minimum numbers to first numbers in the seq to avoid an range problems\n",
    "    \n",
    "    maxnum=int(seq[0])\n",
    "    \n",
    "    minnum=int(seq[0])\n",
    "    \n",
    "    for i in seq:\n",
    "        \n",
    "        if maxnum<int(i):\n",
    "            \n",
    "            maxnum=int(i)\n",
    "            \n",
    "        if minnum>int(i):\n",
    "            \n",
    "            minnum=int(i)\n",
    "        \n",
    "    return [minnum,maxnum]\n",
    "\n",
    "maxmin(input(\"enter the list seperated by spaces: \").split())\n",
    "            \n"
   ]
  },
  {
   "cell_type": "markdown",
   "metadata": {},
   "source": [
    "### Write a Python function that takes two lists and returns True if they have at least one common member."
   ]
  },
  {
   "cell_type": "code",
   "execution_count": 47,
   "metadata": {},
   "outputs": [
    {
     "data": {
      "text/plain": [
       "True"
      ]
     },
     "execution_count": 47,
     "metadata": {},
     "output_type": "execute_result"
    }
   ],
   "source": [
    "def common(list1,list2):\n",
    "    \n",
    "    for i in list1:\n",
    "        \n",
    "        if i in list2:#we go through all values in list 1 and if it any of them are in list 2 we return true and leave the function\n",
    "            \n",
    "            return True\n",
    "    \n",
    "    return False\n",
    "\n",
    "common([4,9,7,7,5,85,52,1],[4,6,4,4,8])"
   ]
  },
  {
   "cell_type": "markdown",
   "metadata": {},
   "source": [
    "### Write a Python function to calculate the factorial of a number (a non-negative integer). The function accepts the number from the user"
   ]
  },
  {
   "cell_type": "code",
   "execution_count": 48,
   "metadata": {},
   "outputs": [
    {
     "name": "stdout",
     "output_type": "stream",
     "text": [
      "120\n"
     ]
    }
   ],
   "source": [
    "def factor(number):\n",
    "    \n",
    "    factsum=1 #we start at 1 because we are multipling\n",
    "    \n",
    "    while number>0:\n",
    "        \n",
    "        factsum*=number\n",
    "        \n",
    "        number-=1\n",
    "        \n",
    "    return factsum\n",
    "\n",
    "print(factor(5))\n",
    "\n",
    "        "
   ]
  },
  {
   "cell_type": "markdown",
   "metadata": {},
   "source": [
    "### Write a Python function to check whether a number is in a given range.\n",
    "\n",
    "### The range is from 3 to 11\n"
   ]
  },
  {
   "cell_type": "code",
   "execution_count": 49,
   "metadata": {},
   "outputs": [
    {
     "name": "stdout",
     "output_type": "stream",
     "text": [
      "True\n"
     ]
    }
   ],
   "source": [
    "def check(number,ranges,rangee):#checks if first number is in between the 2 numbers \n",
    "    \n",
    "    return ranges>=number>=rangee or rangee>=number>=ranges \n",
    "\n",
    "print(check(5,11,3))"
   ]
  },
  {
   "cell_type": "markdown",
   "metadata": {},
   "source": [
    "### Write a  program to create the multiplication table (from 1 to 10) of a number."
   ]
  },
  {
   "cell_type": "code",
   "execution_count": 51,
   "metadata": {},
   "outputs": [
    {
     "name": "stdout",
     "output_type": "stream",
     "text": [
      "enter number5\n",
      "5 x 1 = 5\n",
      "5 x 2 = 10\n",
      "5 x 3 = 15\n",
      "5 x 4 = 20\n",
      "5 x 5 = 25\n",
      "5 x 6 = 30\n",
      "5 x 7 = 35\n",
      "5 x 8 = 40\n",
      "5 x 9 = 45\n",
      "5 x 10 = 50\n"
     ]
    }
   ],
   "source": [
    "num=int(input(\"enter number\"))\n",
    "\n",
    "for i in range(1,11):\n",
    "    \n",
    "    print(num,'x',i,'=',num*i)"
   ]
  },
  {
   "cell_type": "markdown",
   "metadata": {},
   "source": [
    "#### LESSER OF TWO EVENS: Write a function that returns the lesser of two given numbers *if* both numbers are even, but returns the greater if one or both numbers are odd\n",
    "    lesser_of_two_evens(2,4) --> 2\n",
    "    lesser_of_two_evens(2,5) --> 5"
   ]
  },
  {
   "cell_type": "code",
   "execution_count": 52,
   "metadata": {},
   "outputs": [
    {
     "name": "stdout",
     "output_type": "stream",
     "text": [
      "2\n",
      "5\n"
     ]
    }
   ],
   "source": [
    "def lesser_of_two_evens(number1,number2):\n",
    "    \n",
    "    if number1%2==0 and number2%2==0:\n",
    "        \n",
    "        if number1<number2:\n",
    "            \n",
    "            print(number1)\n",
    "            \n",
    "        else:\n",
    "            \n",
    "            print(number2)\n",
    "            \n",
    "    else:\n",
    "        \n",
    "        if number1>number2:\n",
    "            \n",
    "            print(number1)\n",
    "            \n",
    "        else:\n",
    "            \n",
    "            print(number2)\n",
    "\n",
    "\n",
    "lesser_of_two_evens(2,4)\n",
    "lesser_of_two_evens(2,5)"
   ]
  },
  {
   "cell_type": "code",
   "execution_count": null,
   "metadata": {},
   "outputs": [],
   "source": []
  }
 ],
 "metadata": {
  "kernelspec": {
   "display_name": "Python 3 (ipykernel)",
   "language": "python",
   "name": "python3"
  },
  "language_info": {
   "codemirror_mode": {
    "name": "ipython",
    "version": 3
   },
   "file_extension": ".py",
   "mimetype": "text/x-python",
   "name": "python",
   "nbconvert_exporter": "python",
   "pygments_lexer": "ipython3",
   "version": "3.9.12"
  }
 },
 "nbformat": 4,
 "nbformat_minor": 2
}
